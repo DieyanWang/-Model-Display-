{
 "cells": [
  {
   "cell_type": "code",
   "execution_count": 1,
   "metadata": {},
   "outputs": [],
   "source": [
    "pacman::p_load(data.table, gmodels,dplyr,ggplot2)"
   ]
  },
  {
   "cell_type": "code",
   "execution_count": 2,
   "metadata": {},
   "outputs": [],
   "source": [
    "data_sales <- readRDS(\"/Users/anonym/Desktop/MSIN0094-Marketing\\ Analytics\\ /Projects/Assignment\\ 4-20201204/data_sales.rds\")\n",
    "data_product <- readRDS(\"/Users/anonym/Desktop/MSIN0094-Marketing\\ Analytics\\ /Projects/Assignment\\ 4-20201204/data_product.rds\")\n",
    "data_material <- readRDS(\"/Users/anonym/Desktop/MSIN0094-Marketing\\ Analytics\\ /Projects/Assignment\\ 4-20201204/data_material.rds\")\n",
    "# upload datasets\n",
    "# due to there is no allowance to put name and student ID, I change in paths to anonym"
   ]
  },
  {
   "cell_type": "code",
   "execution_count": 3,
   "metadata": {},
   "outputs": [
    {
     "data": {
      "text/html": [
       "<table>\n",
       "<thead><tr><th scope=col>week_id</th><th scope=col>product_id</th><th scope=col>price</th><th scope=col>sales</th><th scope=col>is_free_shipping</th></tr></thead>\n",
       "<tbody>\n",
       "\t<tr><td>1       </td><td>1       </td><td>661.5660</td><td>4253.156</td><td>0       </td></tr>\n",
       "\t<tr><td>1       </td><td>2       </td><td>658.5838</td><td>3827.249</td><td>0       </td></tr>\n",
       "\t<tr><td>1       </td><td>3       </td><td>664.9970</td><td>4155.162</td><td>0       </td></tr>\n",
       "\t<tr><td>1       </td><td>4       </td><td>660.8435</td><td>4026.688</td><td>0       </td></tr>\n",
       "\t<tr><td>1       </td><td>5       </td><td>662.2279</td><td>3368.999</td><td>0       </td></tr>\n",
       "\t<tr><td>1       </td><td>6       </td><td>631.6181</td><td>3552.481</td><td>0       </td></tr>\n",
       "</tbody>\n",
       "</table>\n"
      ],
      "text/latex": [
       "\\begin{tabular}{r|lllll}\n",
       " week\\_id & product\\_id & price & sales & is\\_free\\_shipping\\\\\n",
       "\\hline\n",
       "\t 1        & 1        & 661.5660 & 4253.156 & 0       \\\\\n",
       "\t 1        & 2        & 658.5838 & 3827.249 & 0       \\\\\n",
       "\t 1        & 3        & 664.9970 & 4155.162 & 0       \\\\\n",
       "\t 1        & 4        & 660.8435 & 4026.688 & 0       \\\\\n",
       "\t 1        & 5        & 662.2279 & 3368.999 & 0       \\\\\n",
       "\t 1        & 6        & 631.6181 & 3552.481 & 0       \\\\\n",
       "\\end{tabular}\n"
      ],
      "text/markdown": [
       "\n",
       "| week_id | product_id | price | sales | is_free_shipping |\n",
       "|---|---|---|---|---|\n",
       "| 1        | 1        | 661.5660 | 4253.156 | 0        |\n",
       "| 1        | 2        | 658.5838 | 3827.249 | 0        |\n",
       "| 1        | 3        | 664.9970 | 4155.162 | 0        |\n",
       "| 1        | 4        | 660.8435 | 4026.688 | 0        |\n",
       "| 1        | 5        | 662.2279 | 3368.999 | 0        |\n",
       "| 1        | 6        | 631.6181 | 3552.481 | 0        |\n",
       "\n"
      ],
      "text/plain": [
       "  week_id product_id price    sales    is_free_shipping\n",
       "1 1       1          661.5660 4253.156 0               \n",
       "2 1       2          658.5838 3827.249 0               \n",
       "3 1       3          664.9970 4155.162 0               \n",
       "4 1       4          660.8435 4026.688 0               \n",
       "5 1       5          662.2279 3368.999 0               \n",
       "6 1       6          631.6181 3552.481 0               "
      ]
     },
     "metadata": {},
     "output_type": "display_data"
    },
    {
     "data": {
      "text/html": [
       "<table>\n",
       "<thead><tr><th scope=col>brand</th><th scope=col>cpu</th><th scope=col>ram</th><th scope=col>screensize</th><th scope=col>gpu</th><th scope=col>product_id</th></tr></thead>\n",
       "<tbody>\n",
       "\t<tr><td>dell  </td><td>i9    </td><td>8     </td><td>13    </td><td>Nvidia</td><td>1     </td></tr>\n",
       "\t<tr><td>lenovo</td><td>i9    </td><td>8     </td><td>13    </td><td>Nvidia</td><td>2     </td></tr>\n",
       "\t<tr><td>asus  </td><td>i9    </td><td>8     </td><td>13    </td><td>Nvidia</td><td>3     </td></tr>\n",
       "\t<tr><td>hp    </td><td>i9    </td><td>8     </td><td>13    </td><td>Nvidia</td><td>4     </td></tr>\n",
       "\t<tr><td>razer </td><td>i9    </td><td>8     </td><td>13    </td><td>Nvidia</td><td>5     </td></tr>\n",
       "\t<tr><td>dell  </td><td>i7    </td><td>8     </td><td>13    </td><td>Nvidia</td><td>6     </td></tr>\n",
       "</tbody>\n",
       "</table>\n"
      ],
      "text/latex": [
       "\\begin{tabular}{r|llllll}\n",
       " brand & cpu & ram & screensize & gpu & product\\_id\\\\\n",
       "\\hline\n",
       "\t dell   & i9     & 8      & 13     & Nvidia & 1     \\\\\n",
       "\t lenovo & i9     & 8      & 13     & Nvidia & 2     \\\\\n",
       "\t asus   & i9     & 8      & 13     & Nvidia & 3     \\\\\n",
       "\t hp     & i9     & 8      & 13     & Nvidia & 4     \\\\\n",
       "\t razer  & i9     & 8      & 13     & Nvidia & 5     \\\\\n",
       "\t dell   & i7     & 8      & 13     & Nvidia & 6     \\\\\n",
       "\\end{tabular}\n"
      ],
      "text/markdown": [
       "\n",
       "| brand | cpu | ram | screensize | gpu | product_id |\n",
       "|---|---|---|---|---|---|\n",
       "| dell   | i9     | 8      | 13     | Nvidia | 1      |\n",
       "| lenovo | i9     | 8      | 13     | Nvidia | 2      |\n",
       "| asus   | i9     | 8      | 13     | Nvidia | 3      |\n",
       "| hp     | i9     | 8      | 13     | Nvidia | 4      |\n",
       "| razer  | i9     | 8      | 13     | Nvidia | 5      |\n",
       "| dell   | i7     | 8      | 13     | Nvidia | 6      |\n",
       "\n"
      ],
      "text/plain": [
       "  brand  cpu ram screensize gpu    product_id\n",
       "1 dell   i9  8   13         Nvidia 1         \n",
       "2 lenovo i9  8   13         Nvidia 2         \n",
       "3 asus   i9  8   13         Nvidia 3         \n",
       "4 hp     i9  8   13         Nvidia 4         \n",
       "5 razer  i9  8   13         Nvidia 5         \n",
       "6 dell   i7  8   13         Nvidia 6         "
      ]
     },
     "metadata": {},
     "output_type": "display_data"
    },
    {
     "data": {
      "text/html": [
       "<table>\n",
       "<thead><tr><th scope=col>week_id</th><th scope=col>cpu_i9</th><th scope=col>cpu_i7</th><th scope=col>cpu_i5</th><th scope=col>ram_8</th><th scope=col>screensize_13</th><th scope=col>gpu_n</th><th scope=col>gpu_a</th><th scope=col>ram_16</th><th scope=col>screensize_15</th></tr></thead>\n",
       "<tbody>\n",
       "\t<tr><td>1        </td><td>140.2433 </td><td>116.6671 </td><td>111.42742</td><td>85.35641 </td><td>102.63021</td><td>104.17175</td><td>95.65110 </td><td>170.7128 </td><td>133.4193 </td></tr>\n",
       "\t<tr><td>2        </td><td>142.2782 </td><td>110.8395 </td><td> 93.32387</td><td>77.72371 </td><td>102.64101</td><td>105.66301</td><td>90.80984 </td><td>155.4474 </td><td>133.4333 </td></tr>\n",
       "\t<tr><td>3        </td><td>153.6492 </td><td>124.0343 </td><td>111.06958</td><td>80.07763 </td><td>106.87273</td><td> 99.12707</td><td>80.41032 </td><td>160.1553 </td><td>138.9345 </td></tr>\n",
       "\t<tr><td>4        </td><td>148.6121 </td><td>124.3726 </td><td>100.61737</td><td>90.15820 </td><td> 97.22842</td><td> 95.70171</td><td>93.05972 </td><td>180.3164 </td><td>126.3970 </td></tr>\n",
       "\t<tr><td>5        </td><td>141.7186 </td><td>111.7949 </td><td> 96.56563</td><td>81.14673 </td><td>109.25024</td><td>100.20145</td><td>94.90904 </td><td>162.2935 </td><td>142.0253 </td></tr>\n",
       "\t<tr><td>6        </td><td>148.7449 </td><td>127.3514 </td><td>105.23611</td><td>79.63834 </td><td>100.22008</td><td>104.61163</td><td>89.22069 </td><td>159.2767 </td><td>130.2861 </td></tr>\n",
       "</tbody>\n",
       "</table>\n"
      ],
      "text/latex": [
       "\\begin{tabular}{r|llllllllll}\n",
       " week\\_id & cpu\\_i9 & cpu\\_i7 & cpu\\_i5 & ram\\_8 & screensize\\_13 & gpu\\_n & gpu\\_a & ram\\_16 & screensize\\_15\\\\\n",
       "\\hline\n",
       "\t 1         & 140.2433  & 116.6671  & 111.42742 & 85.35641  & 102.63021 & 104.17175 & 95.65110  & 170.7128  & 133.4193 \\\\\n",
       "\t 2         & 142.2782  & 110.8395  &  93.32387 & 77.72371  & 102.64101 & 105.66301 & 90.80984  & 155.4474  & 133.4333 \\\\\n",
       "\t 3         & 153.6492  & 124.0343  & 111.06958 & 80.07763  & 106.87273 &  99.12707 & 80.41032  & 160.1553  & 138.9345 \\\\\n",
       "\t 4         & 148.6121  & 124.3726  & 100.61737 & 90.15820  &  97.22842 &  95.70171 & 93.05972  & 180.3164  & 126.3970 \\\\\n",
       "\t 5         & 141.7186  & 111.7949  &  96.56563 & 81.14673  & 109.25024 & 100.20145 & 94.90904  & 162.2935  & 142.0253 \\\\\n",
       "\t 6         & 148.7449  & 127.3514  & 105.23611 & 79.63834  & 100.22008 & 104.61163 & 89.22069  & 159.2767  & 130.2861 \\\\\n",
       "\\end{tabular}\n"
      ],
      "text/markdown": [
       "\n",
       "| week_id | cpu_i9 | cpu_i7 | cpu_i5 | ram_8 | screensize_13 | gpu_n | gpu_a | ram_16 | screensize_15 |\n",
       "|---|---|---|---|---|---|---|---|---|---|\n",
       "| 1         | 140.2433  | 116.6671  | 111.42742 | 85.35641  | 102.63021 | 104.17175 | 95.65110  | 170.7128  | 133.4193  |\n",
       "| 2         | 142.2782  | 110.8395  |  93.32387 | 77.72371  | 102.64101 | 105.66301 | 90.80984  | 155.4474  | 133.4333  |\n",
       "| 3         | 153.6492  | 124.0343  | 111.06958 | 80.07763  | 106.87273 |  99.12707 | 80.41032  | 160.1553  | 138.9345  |\n",
       "| 4         | 148.6121  | 124.3726  | 100.61737 | 90.15820  |  97.22842 |  95.70171 | 93.05972  | 180.3164  | 126.3970  |\n",
       "| 5         | 141.7186  | 111.7949  |  96.56563 | 81.14673  | 109.25024 | 100.20145 | 94.90904  | 162.2935  | 142.0253  |\n",
       "| 6         | 148.7449  | 127.3514  | 105.23611 | 79.63834  | 100.22008 | 104.61163 | 89.22069  | 159.2767  | 130.2861  |\n",
       "\n"
      ],
      "text/plain": [
       "  week_id cpu_i9   cpu_i7   cpu_i5    ram_8    screensize_13 gpu_n     gpu_a   \n",
       "1 1       140.2433 116.6671 111.42742 85.35641 102.63021     104.17175 95.65110\n",
       "2 2       142.2782 110.8395  93.32387 77.72371 102.64101     105.66301 90.80984\n",
       "3 3       153.6492 124.0343 111.06958 80.07763 106.87273      99.12707 80.41032\n",
       "4 4       148.6121 124.3726 100.61737 90.15820  97.22842      95.70171 93.05972\n",
       "5 5       141.7186 111.7949  96.56563 81.14673 109.25024     100.20145 94.90904\n",
       "6 6       148.7449 127.3514 105.23611 79.63834 100.22008     104.61163 89.22069\n",
       "  ram_16   screensize_15\n",
       "1 170.7128 133.4193     \n",
       "2 155.4474 133.4333     \n",
       "3 160.1553 138.9345     \n",
       "4 180.3164 126.3970     \n",
       "5 162.2935 142.0253     \n",
       "6 159.2767 130.2861     "
      ]
     },
     "metadata": {},
     "output_type": "display_data"
    }
   ],
   "source": [
    "head(data_sales)\n",
    "head(data_product)\n",
    "head(data_material)"
   ]
  },
  {
   "cell_type": "code",
   "execution_count": 4,
   "metadata": {},
   "outputs": [
    {
     "data": {
      "text/plain": [
       "\n",
       "Call:\n",
       "lm(formula = sales ~ price, data = data_sales)\n",
       "\n",
       "Residuals:\n",
       "     Min       1Q   Median       3Q      Max \n",
       "-2463.09  -390.16    16.64   416.44  2025.51 \n",
       "\n",
       "Coefficients:\n",
       "             Estimate Std. Error t value Pr(>|t|)    \n",
       "(Intercept) 3.790e+03  6.212e+01  61.010   <2e-16 ***\n",
       "price       7.653e-02  8.906e-02   0.859     0.39    \n",
       "---\n",
       "Signif. codes:  0 ‘***’ 0.001 ‘**’ 0.01 ‘*’ 0.05 ‘.’ 0.1 ‘ ’ 1\n",
       "\n",
       "Residual standard error: 598.3 on 9598 degrees of freedom\n",
       "Multiple R-squared:  7.693e-05,\tAdjusted R-squared:  -2.725e-05 \n",
       "F-statistic: 0.7384 on 1 and 9598 DF,  p-value: 0.3902\n"
      ]
     },
     "metadata": {},
     "output_type": "display_data"
    }
   ],
   "source": [
    "# 1.a\n",
    "summary(lm(data = data_sales,\n",
    "           formula = sales ~ price))\n",
    "# the regression of the Equation(1)"
   ]
  },
  {
   "cell_type": "code",
   "execution_count": null,
   "metadata": {},
   "outputs": [],
   "source": []
  },
  {
   "cell_type": "code",
   "execution_count": 5,
   "metadata": {},
   "outputs": [
    {
     "data": {
      "text/plain": [
       "\n",
       "Call:\n",
       "lm(formula = sales ~ price + is_free_shipping, data = data_sales)\n",
       "\n",
       "Residuals:\n",
       "     Min       1Q   Median       3Q      Max \n",
       "-2461.98  -389.86    16.34   416.09  2024.38 \n",
       "\n",
       "Coefficients:\n",
       "                  Estimate Std. Error t value Pr(>|t|)    \n",
       "(Intercept)      3.787e+03  6.217e+01  60.910   <2e-16 ***\n",
       "price            8.005e-02  8.909e-02   0.899    0.369    \n",
       "is_free_shipping 7.482e+01  5.367e+01   1.394    0.163    \n",
       "---\n",
       "Signif. codes:  0 ‘***’ 0.001 ‘**’ 0.01 ‘*’ 0.05 ‘.’ 0.1 ‘ ’ 1\n",
       "\n",
       "Residual standard error: 598.3 on 9597 degrees of freedom\n",
       "Multiple R-squared:  0.0002794,\tAdjusted R-squared:  7.102e-05 \n",
       "F-statistic: 1.341 on 2 and 9597 DF,  p-value: 0.2617\n"
      ]
     },
     "metadata": {},
     "output_type": "display_data"
    }
   ],
   "source": [
    "# 1.b\n",
    "summary(lm(data = data_sales,\n",
    "           formula = sales ~ price + is_free_shipping))\n",
    "# is_free_shipping = 0 means that there is no free shipping"
   ]
  },
  {
   "cell_type": "code",
   "execution_count": 6,
   "metadata": {},
   "outputs": [
    {
     "data": {
      "text/html": [
       "<table>\n",
       "<thead><tr><th scope=col>product_id</th><th scope=col>brand</th><th scope=col>cpu</th><th scope=col>ram</th><th scope=col>screensize</th><th scope=col>gpu</th><th scope=col>week_id</th><th scope=col>price</th><th scope=col>sales</th><th scope=col>is_free_shipping</th></tr></thead>\n",
       "<tbody>\n",
       "\t<tr><td>1       </td><td>dell    </td><td>i9      </td><td>8       </td><td>13      </td><td>Nvidia  </td><td>1       </td><td>661.5660</td><td>4253.156</td><td>0       </td></tr>\n",
       "\t<tr><td>1       </td><td>dell    </td><td>i9      </td><td>8       </td><td>13      </td><td>Nvidia  </td><td>2       </td><td>658.8995</td><td>4176.954</td><td>0       </td></tr>\n",
       "\t<tr><td>1       </td><td>dell    </td><td>i9      </td><td>8       </td><td>13      </td><td>Nvidia  </td><td>3       </td><td>678.9224</td><td>3469.128</td><td>0       </td></tr>\n",
       "\t<tr><td>1       </td><td>dell    </td><td>i9      </td><td>8       </td><td>13      </td><td>Nvidia  </td><td>4       </td><td>657.6666</td><td>3673.176</td><td>0       </td></tr>\n",
       "\t<tr><td>1       </td><td>dell    </td><td>i9      </td><td>8       </td><td>13      </td><td>Nvidia  </td><td>5       </td><td>670.2597</td><td>4753.161</td><td>0       </td></tr>\n",
       "\t<tr><td>1       </td><td>dell    </td><td>i9      </td><td>8       </td><td>13      </td><td>Nvidia  </td><td>6       </td><td>664.6352</td><td>4088.331</td><td>0       </td></tr>\n",
       "</tbody>\n",
       "</table>\n"
      ],
      "text/latex": [
       "\\begin{tabular}{r|llllllllll}\n",
       " product\\_id & brand & cpu & ram & screensize & gpu & week\\_id & price & sales & is\\_free\\_shipping\\\\\n",
       "\\hline\n",
       "\t 1        & dell     & i9       & 8        & 13       & Nvidia   & 1        & 661.5660 & 4253.156 & 0       \\\\\n",
       "\t 1        & dell     & i9       & 8        & 13       & Nvidia   & 2        & 658.8995 & 4176.954 & 0       \\\\\n",
       "\t 1        & dell     & i9       & 8        & 13       & Nvidia   & 3        & 678.9224 & 3469.128 & 0       \\\\\n",
       "\t 1        & dell     & i9       & 8        & 13       & Nvidia   & 4        & 657.6666 & 3673.176 & 0       \\\\\n",
       "\t 1        & dell     & i9       & 8        & 13       & Nvidia   & 5        & 670.2597 & 4753.161 & 0       \\\\\n",
       "\t 1        & dell     & i9       & 8        & 13       & Nvidia   & 6        & 664.6352 & 4088.331 & 0       \\\\\n",
       "\\end{tabular}\n"
      ],
      "text/markdown": [
       "\n",
       "| product_id | brand | cpu | ram | screensize | gpu | week_id | price | sales | is_free_shipping |\n",
       "|---|---|---|---|---|---|---|---|---|---|\n",
       "| 1        | dell     | i9       | 8        | 13       | Nvidia   | 1        | 661.5660 | 4253.156 | 0        |\n",
       "| 1        | dell     | i9       | 8        | 13       | Nvidia   | 2        | 658.8995 | 4176.954 | 0        |\n",
       "| 1        | dell     | i9       | 8        | 13       | Nvidia   | 3        | 678.9224 | 3469.128 | 0        |\n",
       "| 1        | dell     | i9       | 8        | 13       | Nvidia   | 4        | 657.6666 | 3673.176 | 0        |\n",
       "| 1        | dell     | i9       | 8        | 13       | Nvidia   | 5        | 670.2597 | 4753.161 | 0        |\n",
       "| 1        | dell     | i9       | 8        | 13       | Nvidia   | 6        | 664.6352 | 4088.331 | 0        |\n",
       "\n"
      ],
      "text/plain": [
       "  product_id brand cpu ram screensize gpu    week_id price    sales   \n",
       "1 1          dell  i9  8   13         Nvidia 1       661.5660 4253.156\n",
       "2 1          dell  i9  8   13         Nvidia 2       658.8995 4176.954\n",
       "3 1          dell  i9  8   13         Nvidia 3       678.9224 3469.128\n",
       "4 1          dell  i9  8   13         Nvidia 4       657.6666 3673.176\n",
       "5 1          dell  i9  8   13         Nvidia 5       670.2597 4753.161\n",
       "6 1          dell  i9  8   13         Nvidia 6       664.6352 4088.331\n",
       "  is_free_shipping\n",
       "1 0               \n",
       "2 0               \n",
       "3 0               \n",
       "4 0               \n",
       "5 0               \n",
       "6 0               "
      ]
     },
     "metadata": {},
     "output_type": "display_data"
    }
   ],
   "source": [
    "merge_1 <- merge(data_product,data_sales,by=\"product_id\")\n",
    "head(merge_1)\n",
    "# merge data_sales and data_product based on \"product_id\" to marge_1"
   ]
  },
  {
   "cell_type": "code",
   "execution_count": 7,
   "metadata": {},
   "outputs": [
    {
     "data": {
      "text/plain": [
       "\n",
       "Call:\n",
       "lm(formula = sales ~ price + factor(cpu), data = merge_1)\n",
       "\n",
       "Residuals:\n",
       "     Min       1Q   Median       3Q      Max \n",
       "-2462.74  -391.34    15.89   414.15  2036.21 \n",
       "\n",
       "Coefficients:\n",
       "               Estimate Std. Error t value Pr(>|t|)    \n",
       "(Intercept)   3.732e+03  7.212e+01  51.751   <2e-16 ***\n",
       "price         1.399e-01  9.763e-02   1.433    0.152    \n",
       "factor(cpu)i7 1.592e+01  1.549e+01   1.028    0.304    \n",
       "factor(cpu)i5 2.573e+01  1.638e+01   1.571    0.116    \n",
       "---\n",
       "Signif. codes:  0 ‘***’ 0.001 ‘**’ 0.01 ‘*’ 0.05 ‘.’ 0.1 ‘ ’ 1\n",
       "\n",
       "Residual standard error: 598.3 on 9596 degrees of freedom\n",
       "Multiple R-squared:  0.0003383,\tAdjusted R-squared:  2.581e-05 \n",
       "F-statistic: 1.083 on 3 and 9596 DF,  p-value: 0.355\n"
      ]
     },
     "metadata": {},
     "output_type": "display_data"
    }
   ],
   "source": [
    "summary(lm(data = merge_1,\n",
    "           formula = sales ~ price + factor(cpu)))\n",
    "# the regression of cpu and cpu = i9 is the baseline group"
   ]
  },
  {
   "cell_type": "code",
   "execution_count": 8,
   "metadata": {},
   "outputs": [
    {
     "data": {
      "text/plain": [
       "\n",
       "Call:\n",
       "lm(formula = sales ~ price + factor(ram), data = merge_1)\n",
       "\n",
       "Residuals:\n",
       "     Min       1Q   Median       3Q      Max \n",
       "-2475.83  -389.58    17.42   416.26  2026.98 \n",
       "\n",
       "Coefficients:\n",
       "               Estimate Std. Error t value Pr(>|t|)    \n",
       "(Intercept)   3623.1788    98.2287  36.885   <2e-16 ***\n",
       "price            0.3502     0.1533   2.285   0.0223 *  \n",
       "factor(ram)16  -46.1130    21.0194  -2.194   0.0283 *  \n",
       "---\n",
       "Signif. codes:  0 ‘***’ 0.001 ‘**’ 0.01 ‘*’ 0.05 ‘.’ 0.1 ‘ ’ 1\n",
       "\n",
       "Residual standard error: 598.2 on 9597 degrees of freedom\n",
       "Multiple R-squared:  0.0005781,\tAdjusted R-squared:  0.0003699 \n",
       "F-statistic: 2.776 on 2 and 9597 DF,  p-value: 0.06235\n"
      ]
     },
     "metadata": {},
     "output_type": "display_data"
    }
   ],
   "source": [
    "summary(lm(data = merge_1,\n",
    "           formula = sales ~ price + factor(ram)))\n",
    "# the regression of ram and ram = 8 is the baseline group"
   ]
  },
  {
   "cell_type": "code",
   "execution_count": 9,
   "metadata": {},
   "outputs": [
    {
     "data": {
      "text/plain": [
       "\n",
       "Call:\n",
       "lm(formula = sales ~ price + factor(screensize), data = merge_1)\n",
       "\n",
       "Residuals:\n",
       "     Min       1Q   Median       3Q      Max \n",
       "-2447.96  -391.29    14.09   414.05  2043.65 \n",
       "\n",
       "Coefficients:\n",
       "                       Estimate Std. Error t value Pr(>|t|)    \n",
       "(Intercept)          3762.93752   63.55576  59.207   <2e-16 ***\n",
       "price                   0.13435    0.09353   1.436   0.1509    \n",
       "factor(screensize)15  -25.90540   12.82652  -2.020   0.0434 *  \n",
       "---\n",
       "Signif. codes:  0 ‘***’ 0.001 ‘**’ 0.01 ‘*’ 0.05 ‘.’ 0.1 ‘ ’ 1\n",
       "\n",
       "Residual standard error: 598.2 on 9597 degrees of freedom\n",
       "Multiple R-squared:  0.0005018,\tAdjusted R-squared:  0.0002935 \n",
       "F-statistic: 2.409 on 2 and 9597 DF,  p-value: 0.08997\n"
      ]
     },
     "metadata": {},
     "output_type": "display_data"
    }
   ],
   "source": [
    "summary(lm(data = merge_1,\n",
    "           formula = sales ~ price + factor(screensize)))\n",
    "# the regression of screensize and screensize = 13 is the baseline group"
   ]
  },
  {
   "cell_type": "code",
   "execution_count": 10,
   "metadata": {},
   "outputs": [
    {
     "data": {
      "text/plain": [
       "\n",
       "Call:\n",
       "lm(formula = sales ~ price + factor(gpu), data = merge_1)\n",
       "\n",
       "Residuals:\n",
       "    Min      1Q  Median      3Q     Max \n",
       "-2462.4  -389.9    16.5   416.1  2025.0 \n",
       "\n",
       "Coefficients:\n",
       "                Estimate Std. Error t value Pr(>|t|)    \n",
       "(Intercept)    3.789e+03  6.342e+01  59.737   <2e-16 ***\n",
       "price          7.754e-02  8.957e-02   0.866    0.387    \n",
       "factor(gpu)AMD 1.306e+00  1.228e+01   0.106    0.915    \n",
       "---\n",
       "Signif. codes:  0 ‘***’ 0.001 ‘**’ 0.01 ‘*’ 0.05 ‘.’ 0.1 ‘ ’ 1\n",
       "\n",
       "Residual standard error: 598.3 on 9597 degrees of freedom\n",
       "Multiple R-squared:  7.811e-05,\tAdjusted R-squared:  -0.0001303 \n",
       "F-statistic: 0.3748 on 2 and 9597 DF,  p-value: 0.6874\n"
      ]
     },
     "metadata": {},
     "output_type": "display_data"
    }
   ],
   "source": [
    "summary(lm(data = merge_1,\n",
    "           formula = sales ~ price + factor(gpu)))\n",
    "# the regression of gpu and gpu = Nvidia is the baseline group"
   ]
  },
  {
   "cell_type": "code",
   "execution_count": null,
   "metadata": {},
   "outputs": [],
   "source": []
  },
  {
   "cell_type": "code",
   "execution_count": 11,
   "metadata": {},
   "outputs": [
    {
     "data": {
      "text/plain": [
       "\n",
       "Call:\n",
       "lm(formula = price ~ is_free_shipping, data = merge_1)\n",
       "\n",
       "Residuals:\n",
       "     Min       1Q   Median       3Q      Max \n",
       "-156.042  -56.926    0.013   55.115  161.810 \n",
       "\n",
       "Coefficients:\n",
       "                 Estimate Std. Error t value Pr(>|t|)    \n",
       "(Intercept)      694.4182     0.7042 986.056  < 2e-16 ***\n",
       "is_free_shipping -17.1133     6.1471  -2.784  0.00538 ** \n",
       "---\n",
       "Signif. codes:  0 ‘***’ 0.001 ‘**’ 0.01 ‘*’ 0.05 ‘.’ 0.1 ‘ ’ 1\n",
       "\n",
       "Residual standard error: 68.55 on 9598 degrees of freedom\n",
       "Multiple R-squared:  0.0008069,\tAdjusted R-squared:  0.0007027 \n",
       "F-statistic:  7.75 on 1 and 9598 DF,  p-value: 0.005381\n"
      ]
     },
     "metadata": {},
     "output_type": "display_data"
    }
   ],
   "source": [
    "# 1.c\n",
    "shipping_lm_1st_stage <- lm(data = merge_1,\n",
    "           formula = price ~ is_free_shipping)\n",
    "summary(shipping_lm_1st_stage)\n",
    "# stage 1 of free shipping as instrument value"
   ]
  },
  {
   "cell_type": "code",
   "execution_count": 12,
   "metadata": {},
   "outputs": [
    {
     "data": {
      "text/plain": [
       "\n",
       "Call:\n",
       "lm(formula = sales ~ shipping_predicted_price, data = merge_1[, \n",
       "    `:=`(shipping_predicted_price, shipping_predicted_price)])\n",
       "\n",
       "Residuals:\n",
       "     Min       1Q   Median       3Q      Max \n",
       "-2465.01  -390.11    16.21   414.95  2025.80 \n",
       "\n",
       "Coefficients:\n",
       "                         Estimate Std. Error t value Pr(>|t|)   \n",
       "(Intercept)              6822.799   2176.340   3.135  0.00172 **\n",
       "shipping_predicted_price   -4.292      3.135  -1.369  0.17101   \n",
       "---\n",
       "Signif. codes:  0 ‘***’ 0.001 ‘**’ 0.01 ‘*’ 0.05 ‘.’ 0.1 ‘ ’ 1\n",
       "\n",
       "Residual standard error: 598.3 on 9598 degrees of freedom\n",
       "Multiple R-squared:  0.0001952,\tAdjusted R-squared:  9.108e-05 \n",
       "F-statistic: 1.874 on 1 and 9598 DF,  p-value: 0.171\n"
      ]
     },
     "metadata": {},
     "output_type": "display_data"
    }
   ],
   "source": [
    "shipping_predicted_price <- predict(shipping_lm_1st_stage)\n",
    "summary(lm(data = merge_1[,shipping_predicted_price := shipping_predicted_price],\n",
    "           formula = sales ~ shipping_predicted_price))\n",
    "# stage 2 of free shipping as instrument value"
   ]
  },
  {
   "cell_type": "code",
   "execution_count": 13,
   "metadata": {},
   "outputs": [
    {
     "data": {
      "text/plain": [
       "\n",
       "\tPearson's product-moment correlation\n",
       "\n",
       "data:  merge_1$price and merge_1$is_free_shipping\n",
       "t = -2.784, df = 9598, p-value = 0.005381\n",
       "alternative hypothesis: true correlation is not equal to 0\n",
       "95 percent confidence interval:\n",
       " -0.048381915 -0.008405672\n",
       "sample estimates:\n",
       "        cor \n",
       "-0.02840515 \n"
      ]
     },
     "metadata": {},
     "output_type": "display_data"
    }
   ],
   "source": [
    "cor.test(merge_1$price,merge_1$is_free_shipping)\n",
    "# the correlation between price nad free shipping"
   ]
  },
  {
   "cell_type": "code",
   "execution_count": null,
   "metadata": {},
   "outputs": [],
   "source": []
  },
  {
   "cell_type": "code",
   "execution_count": 14,
   "metadata": {},
   "outputs": [
    {
     "data": {
      "text/html": [
       "<table>\n",
       "<thead><tr><th scope=col>week_id</th><th scope=col>product_id</th><th scope=col>brand</th><th scope=col>cpu</th><th scope=col>ram</th><th scope=col>screensize</th><th scope=col>gpu</th><th scope=col>price</th><th scope=col>sales</th><th scope=col>is_free_shipping</th><th scope=col>shipping_predicted_price</th><th scope=col>cpu_i9</th><th scope=col>cpu_i7</th><th scope=col>cpu_i5</th><th scope=col>ram_8</th><th scope=col>screensize_13</th><th scope=col>gpu_n</th><th scope=col>gpu_a</th><th scope=col>ram_16</th><th scope=col>screensize_15</th></tr></thead>\n",
       "<tbody>\n",
       "\t<tr><td>1       </td><td>1       </td><td>dell    </td><td>i9      </td><td>8       </td><td>13      </td><td>Nvidia  </td><td>661.5660</td><td>4253.156</td><td>0       </td><td>694.4182</td><td>140.2433</td><td>116.6671</td><td>111.4274</td><td>85.35641</td><td>102.6302</td><td>104.1718</td><td>95.6511 </td><td>170.7128</td><td>133.4193</td></tr>\n",
       "\t<tr><td>1       </td><td>2       </td><td>lenovo  </td><td>i9      </td><td>8       </td><td>13      </td><td>Nvidia  </td><td>658.5838</td><td>3827.249</td><td>0       </td><td>694.4182</td><td>140.2433</td><td>116.6671</td><td>111.4274</td><td>85.35641</td><td>102.6302</td><td>104.1718</td><td>95.6511 </td><td>170.7128</td><td>133.4193</td></tr>\n",
       "\t<tr><td>1       </td><td>3       </td><td>asus    </td><td>i9      </td><td>8       </td><td>13      </td><td>Nvidia  </td><td>664.9970</td><td>4155.162</td><td>0       </td><td>694.4182</td><td>140.2433</td><td>116.6671</td><td>111.4274</td><td>85.35641</td><td>102.6302</td><td>104.1718</td><td>95.6511 </td><td>170.7128</td><td>133.4193</td></tr>\n",
       "\t<tr><td>1       </td><td>4       </td><td>hp      </td><td>i9      </td><td>8       </td><td>13      </td><td>Nvidia  </td><td>660.8435</td><td>4026.688</td><td>0       </td><td>694.4182</td><td>140.2433</td><td>116.6671</td><td>111.4274</td><td>85.35641</td><td>102.6302</td><td>104.1718</td><td>95.6511 </td><td>170.7128</td><td>133.4193</td></tr>\n",
       "\t<tr><td>1       </td><td>5       </td><td>razer   </td><td>i9      </td><td>8       </td><td>13      </td><td>Nvidia  </td><td>662.2279</td><td>3368.999</td><td>0       </td><td>694.4182</td><td>140.2433</td><td>116.6671</td><td>111.4274</td><td>85.35641</td><td>102.6302</td><td>104.1718</td><td>95.6511 </td><td>170.7128</td><td>133.4193</td></tr>\n",
       "\t<tr><td>1       </td><td>6       </td><td>dell    </td><td>i7      </td><td>8       </td><td>13      </td><td>Nvidia  </td><td>631.6181</td><td>3552.481</td><td>0       </td><td>694.4182</td><td>140.2433</td><td>116.6671</td><td>111.4274</td><td>85.35641</td><td>102.6302</td><td>104.1718</td><td>95.6511 </td><td>170.7128</td><td>133.4193</td></tr>\n",
       "</tbody>\n",
       "</table>\n"
      ],
      "text/latex": [
       "\\begin{tabular}{r|llllllllllllllllllll}\n",
       " week\\_id & product\\_id & brand & cpu & ram & screensize & gpu & price & sales & is\\_free\\_shipping & shipping\\_predicted\\_price & cpu\\_i9 & cpu\\_i7 & cpu\\_i5 & ram\\_8 & screensize\\_13 & gpu\\_n & gpu\\_a & ram\\_16 & screensize\\_15\\\\\n",
       "\\hline\n",
       "\t 1        & 1        & dell     & i9       & 8        & 13       & Nvidia   & 661.5660 & 4253.156 & 0        & 694.4182 & 140.2433 & 116.6671 & 111.4274 & 85.35641 & 102.6302 & 104.1718 & 95.6511  & 170.7128 & 133.4193\\\\\n",
       "\t 1        & 2        & lenovo   & i9       & 8        & 13       & Nvidia   & 658.5838 & 3827.249 & 0        & 694.4182 & 140.2433 & 116.6671 & 111.4274 & 85.35641 & 102.6302 & 104.1718 & 95.6511  & 170.7128 & 133.4193\\\\\n",
       "\t 1        & 3        & asus     & i9       & 8        & 13       & Nvidia   & 664.9970 & 4155.162 & 0        & 694.4182 & 140.2433 & 116.6671 & 111.4274 & 85.35641 & 102.6302 & 104.1718 & 95.6511  & 170.7128 & 133.4193\\\\\n",
       "\t 1        & 4        & hp       & i9       & 8        & 13       & Nvidia   & 660.8435 & 4026.688 & 0        & 694.4182 & 140.2433 & 116.6671 & 111.4274 & 85.35641 & 102.6302 & 104.1718 & 95.6511  & 170.7128 & 133.4193\\\\\n",
       "\t 1        & 5        & razer    & i9       & 8        & 13       & Nvidia   & 662.2279 & 3368.999 & 0        & 694.4182 & 140.2433 & 116.6671 & 111.4274 & 85.35641 & 102.6302 & 104.1718 & 95.6511  & 170.7128 & 133.4193\\\\\n",
       "\t 1        & 6        & dell     & i7       & 8        & 13       & Nvidia   & 631.6181 & 3552.481 & 0        & 694.4182 & 140.2433 & 116.6671 & 111.4274 & 85.35641 & 102.6302 & 104.1718 & 95.6511  & 170.7128 & 133.4193\\\\\n",
       "\\end{tabular}\n"
      ],
      "text/markdown": [
       "\n",
       "| week_id | product_id | brand | cpu | ram | screensize | gpu | price | sales | is_free_shipping | shipping_predicted_price | cpu_i9 | cpu_i7 | cpu_i5 | ram_8 | screensize_13 | gpu_n | gpu_a | ram_16 | screensize_15 |\n",
       "|---|---|---|---|---|---|---|---|---|---|---|---|---|---|---|---|---|---|---|---|\n",
       "| 1        | 1        | dell     | i9       | 8        | 13       | Nvidia   | 661.5660 | 4253.156 | 0        | 694.4182 | 140.2433 | 116.6671 | 111.4274 | 85.35641 | 102.6302 | 104.1718 | 95.6511  | 170.7128 | 133.4193 |\n",
       "| 1        | 2        | lenovo   | i9       | 8        | 13       | Nvidia   | 658.5838 | 3827.249 | 0        | 694.4182 | 140.2433 | 116.6671 | 111.4274 | 85.35641 | 102.6302 | 104.1718 | 95.6511  | 170.7128 | 133.4193 |\n",
       "| 1        | 3        | asus     | i9       | 8        | 13       | Nvidia   | 664.9970 | 4155.162 | 0        | 694.4182 | 140.2433 | 116.6671 | 111.4274 | 85.35641 | 102.6302 | 104.1718 | 95.6511  | 170.7128 | 133.4193 |\n",
       "| 1        | 4        | hp       | i9       | 8        | 13       | Nvidia   | 660.8435 | 4026.688 | 0        | 694.4182 | 140.2433 | 116.6671 | 111.4274 | 85.35641 | 102.6302 | 104.1718 | 95.6511  | 170.7128 | 133.4193 |\n",
       "| 1        | 5        | razer    | i9       | 8        | 13       | Nvidia   | 662.2279 | 3368.999 | 0        | 694.4182 | 140.2433 | 116.6671 | 111.4274 | 85.35641 | 102.6302 | 104.1718 | 95.6511  | 170.7128 | 133.4193 |\n",
       "| 1        | 6        | dell     | i7       | 8        | 13       | Nvidia   | 631.6181 | 3552.481 | 0        | 694.4182 | 140.2433 | 116.6671 | 111.4274 | 85.35641 | 102.6302 | 104.1718 | 95.6511  | 170.7128 | 133.4193 |\n",
       "\n"
      ],
      "text/plain": [
       "  week_id product_id brand  cpu ram screensize gpu    price    sales   \n",
       "1 1       1          dell   i9  8   13         Nvidia 661.5660 4253.156\n",
       "2 1       2          lenovo i9  8   13         Nvidia 658.5838 3827.249\n",
       "3 1       3          asus   i9  8   13         Nvidia 664.9970 4155.162\n",
       "4 1       4          hp     i9  8   13         Nvidia 660.8435 4026.688\n",
       "5 1       5          razer  i9  8   13         Nvidia 662.2279 3368.999\n",
       "6 1       6          dell   i7  8   13         Nvidia 631.6181 3552.481\n",
       "  is_free_shipping shipping_predicted_price cpu_i9   cpu_i7   cpu_i5   ram_8   \n",
       "1 0                694.4182                 140.2433 116.6671 111.4274 85.35641\n",
       "2 0                694.4182                 140.2433 116.6671 111.4274 85.35641\n",
       "3 0                694.4182                 140.2433 116.6671 111.4274 85.35641\n",
       "4 0                694.4182                 140.2433 116.6671 111.4274 85.35641\n",
       "5 0                694.4182                 140.2433 116.6671 111.4274 85.35641\n",
       "6 0                694.4182                 140.2433 116.6671 111.4274 85.35641\n",
       "  screensize_13 gpu_n    gpu_a   ram_16   screensize_15\n",
       "1 102.6302      104.1718 95.6511 170.7128 133.4193     \n",
       "2 102.6302      104.1718 95.6511 170.7128 133.4193     \n",
       "3 102.6302      104.1718 95.6511 170.7128 133.4193     \n",
       "4 102.6302      104.1718 95.6511 170.7128 133.4193     \n",
       "5 102.6302      104.1718 95.6511 170.7128 133.4193     \n",
       "6 102.6302      104.1718 95.6511 170.7128 133.4193     "
      ]
     },
     "metadata": {},
     "output_type": "display_data"
    }
   ],
   "source": [
    "# 2.a\n",
    "merge_2 <- merge(merge_1,data_material,by=\"week_id\")\n",
    "head(merge_2)\n",
    "# merge the data_material and merge_1 based on \"week_id\" to merge_2"
   ]
  },
  {
   "cell_type": "code",
   "execution_count": 16,
   "metadata": {},
   "outputs": [
    {
     "data": {
      "text/html": [
       "<table>\n",
       "<thead><tr><th scope=col>week_id</th><th scope=col>product_id</th><th scope=col>brand</th><th scope=col>cpu</th><th scope=col>ram</th><th scope=col>screensize</th><th scope=col>gpu</th><th scope=col>price</th><th scope=col>sales</th><th scope=col>is_free_shipping</th><th scope=col>...</th><th scope=col>ram_8</th><th scope=col>screensize_13</th><th scope=col>gpu_n</th><th scope=col>gpu_a</th><th scope=col>ram_16</th><th scope=col>screensize_15</th><th scope=col>ram_dummy</th><th scope=col>screensize_dummy</th><th scope=col>gpu_dummy</th><th scope=col>cpu_dummy</th></tr></thead>\n",
       "<tbody>\n",
       "\t<tr><td>1       </td><td>1       </td><td>dell    </td><td>i9      </td><td>8       </td><td>13      </td><td>Nvidia  </td><td>661.5660</td><td>4253.156</td><td>0       </td><td>...     </td><td>85.35641</td><td>102.6302</td><td>104.1718</td><td>95.6511 </td><td>170.7128</td><td>133.4193</td><td>85.35641</td><td>102.6302</td><td>104.1718</td><td>140.2433</td></tr>\n",
       "\t<tr><td>1       </td><td>2       </td><td>lenovo  </td><td>i9      </td><td>8       </td><td>13      </td><td>Nvidia  </td><td>658.5838</td><td>3827.249</td><td>0       </td><td>...     </td><td>85.35641</td><td>102.6302</td><td>104.1718</td><td>95.6511 </td><td>170.7128</td><td>133.4193</td><td>85.35641</td><td>102.6302</td><td>104.1718</td><td>140.2433</td></tr>\n",
       "\t<tr><td>1       </td><td>3       </td><td>asus    </td><td>i9      </td><td>8       </td><td>13      </td><td>Nvidia  </td><td>664.9970</td><td>4155.162</td><td>0       </td><td>...     </td><td>85.35641</td><td>102.6302</td><td>104.1718</td><td>95.6511 </td><td>170.7128</td><td>133.4193</td><td>85.35641</td><td>102.6302</td><td>104.1718</td><td>140.2433</td></tr>\n",
       "\t<tr><td>1       </td><td>4       </td><td>hp      </td><td>i9      </td><td>8       </td><td>13      </td><td>Nvidia  </td><td>660.8435</td><td>4026.688</td><td>0       </td><td>...     </td><td>85.35641</td><td>102.6302</td><td>104.1718</td><td>95.6511 </td><td>170.7128</td><td>133.4193</td><td>85.35641</td><td>102.6302</td><td>104.1718</td><td>140.2433</td></tr>\n",
       "\t<tr><td>1       </td><td>5       </td><td>razer   </td><td>i9      </td><td>8       </td><td>13      </td><td>Nvidia  </td><td>662.2279</td><td>3368.999</td><td>0       </td><td>...     </td><td>85.35641</td><td>102.6302</td><td>104.1718</td><td>95.6511 </td><td>170.7128</td><td>133.4193</td><td>85.35641</td><td>102.6302</td><td>104.1718</td><td>140.2433</td></tr>\n",
       "\t<tr><td>1       </td><td>6       </td><td>dell    </td><td>i7      </td><td>8       </td><td>13      </td><td>Nvidia  </td><td>631.6181</td><td>3552.481</td><td>0       </td><td>...     </td><td>85.35641</td><td>102.6302</td><td>104.1718</td><td>95.6511 </td><td>170.7128</td><td>133.4193</td><td>85.35641</td><td>102.6302</td><td>104.1718</td><td>116.6671</td></tr>\n",
       "</tbody>\n",
       "</table>\n"
      ],
      "text/latex": [
       "\\begin{tabular}{r|llllllllllllllllllllllll}\n",
       " week\\_id & product\\_id & brand & cpu & ram & screensize & gpu & price & sales & is\\_free\\_shipping & ... & ram\\_8 & screensize\\_13 & gpu\\_n & gpu\\_a & ram\\_16 & screensize\\_15 & ram\\_dummy & screensize\\_dummy & gpu\\_dummy & cpu\\_dummy\\\\\n",
       "\\hline\n",
       "\t 1        & 1        & dell     & i9       & 8        & 13       & Nvidia   & 661.5660 & 4253.156 & 0        & ...      & 85.35641 & 102.6302 & 104.1718 & 95.6511  & 170.7128 & 133.4193 & 85.35641 & 102.6302 & 104.1718 & 140.2433\\\\\n",
       "\t 1        & 2        & lenovo   & i9       & 8        & 13       & Nvidia   & 658.5838 & 3827.249 & 0        & ...      & 85.35641 & 102.6302 & 104.1718 & 95.6511  & 170.7128 & 133.4193 & 85.35641 & 102.6302 & 104.1718 & 140.2433\\\\\n",
       "\t 1        & 3        & asus     & i9       & 8        & 13       & Nvidia   & 664.9970 & 4155.162 & 0        & ...      & 85.35641 & 102.6302 & 104.1718 & 95.6511  & 170.7128 & 133.4193 & 85.35641 & 102.6302 & 104.1718 & 140.2433\\\\\n",
       "\t 1        & 4        & hp       & i9       & 8        & 13       & Nvidia   & 660.8435 & 4026.688 & 0        & ...      & 85.35641 & 102.6302 & 104.1718 & 95.6511  & 170.7128 & 133.4193 & 85.35641 & 102.6302 & 104.1718 & 140.2433\\\\\n",
       "\t 1        & 5        & razer    & i9       & 8        & 13       & Nvidia   & 662.2279 & 3368.999 & 0        & ...      & 85.35641 & 102.6302 & 104.1718 & 95.6511  & 170.7128 & 133.4193 & 85.35641 & 102.6302 & 104.1718 & 140.2433\\\\\n",
       "\t 1        & 6        & dell     & i7       & 8        & 13       & Nvidia   & 631.6181 & 3552.481 & 0        & ...      & 85.35641 & 102.6302 & 104.1718 & 95.6511  & 170.7128 & 133.4193 & 85.35641 & 102.6302 & 104.1718 & 116.6671\\\\\n",
       "\\end{tabular}\n"
      ],
      "text/markdown": [
       "\n",
       "| week_id | product_id | brand | cpu | ram | screensize | gpu | price | sales | is_free_shipping | ... | ram_8 | screensize_13 | gpu_n | gpu_a | ram_16 | screensize_15 | ram_dummy | screensize_dummy | gpu_dummy | cpu_dummy |\n",
       "|---|---|---|---|---|---|---|---|---|---|---|---|---|---|---|---|---|---|---|---|---|\n",
       "| 1        | 1        | dell     | i9       | 8        | 13       | Nvidia   | 661.5660 | 4253.156 | 0        | ...      | 85.35641 | 102.6302 | 104.1718 | 95.6511  | 170.7128 | 133.4193 | 85.35641 | 102.6302 | 104.1718 | 140.2433 |\n",
       "| 1        | 2        | lenovo   | i9       | 8        | 13       | Nvidia   | 658.5838 | 3827.249 | 0        | ...      | 85.35641 | 102.6302 | 104.1718 | 95.6511  | 170.7128 | 133.4193 | 85.35641 | 102.6302 | 104.1718 | 140.2433 |\n",
       "| 1        | 3        | asus     | i9       | 8        | 13       | Nvidia   | 664.9970 | 4155.162 | 0        | ...      | 85.35641 | 102.6302 | 104.1718 | 95.6511  | 170.7128 | 133.4193 | 85.35641 | 102.6302 | 104.1718 | 140.2433 |\n",
       "| 1        | 4        | hp       | i9       | 8        | 13       | Nvidia   | 660.8435 | 4026.688 | 0        | ...      | 85.35641 | 102.6302 | 104.1718 | 95.6511  | 170.7128 | 133.4193 | 85.35641 | 102.6302 | 104.1718 | 140.2433 |\n",
       "| 1        | 5        | razer    | i9       | 8        | 13       | Nvidia   | 662.2279 | 3368.999 | 0        | ...      | 85.35641 | 102.6302 | 104.1718 | 95.6511  | 170.7128 | 133.4193 | 85.35641 | 102.6302 | 104.1718 | 140.2433 |\n",
       "| 1        | 6        | dell     | i7       | 8        | 13       | Nvidia   | 631.6181 | 3552.481 | 0        | ...      | 85.35641 | 102.6302 | 104.1718 | 95.6511  | 170.7128 | 133.4193 | 85.35641 | 102.6302 | 104.1718 | 116.6671 |\n",
       "\n"
      ],
      "text/plain": [
       "  week_id product_id brand  cpu ram screensize gpu    price    sales   \n",
       "1 1       1          dell   i9  8   13         Nvidia 661.5660 4253.156\n",
       "2 1       2          lenovo i9  8   13         Nvidia 658.5838 3827.249\n",
       "3 1       3          asus   i9  8   13         Nvidia 664.9970 4155.162\n",
       "4 1       4          hp     i9  8   13         Nvidia 660.8435 4026.688\n",
       "5 1       5          razer  i9  8   13         Nvidia 662.2279 3368.999\n",
       "6 1       6          dell   i7  8   13         Nvidia 631.6181 3552.481\n",
       "  is_free_shipping ... ram_8    screensize_13 gpu_n    gpu_a   ram_16  \n",
       "1 0                ... 85.35641 102.6302      104.1718 95.6511 170.7128\n",
       "2 0                ... 85.35641 102.6302      104.1718 95.6511 170.7128\n",
       "3 0                ... 85.35641 102.6302      104.1718 95.6511 170.7128\n",
       "4 0                ... 85.35641 102.6302      104.1718 95.6511 170.7128\n",
       "5 0                ... 85.35641 102.6302      104.1718 95.6511 170.7128\n",
       "6 0                ... 85.35641 102.6302      104.1718 95.6511 170.7128\n",
       "  screensize_15 ram_dummy screensize_dummy gpu_dummy cpu_dummy\n",
       "1 133.4193      85.35641  102.6302         104.1718  140.2433 \n",
       "2 133.4193      85.35641  102.6302         104.1718  140.2433 \n",
       "3 133.4193      85.35641  102.6302         104.1718  140.2433 \n",
       "4 133.4193      85.35641  102.6302         104.1718  140.2433 \n",
       "5 133.4193      85.35641  102.6302         104.1718  140.2433 \n",
       "6 133.4193      85.35641  102.6302         104.1718  116.6671 "
      ]
     },
     "metadata": {},
     "output_type": "display_data"
    }
   ],
   "source": [
    "merge_2[, ram_dummy := ifelse(ram == 8,ram_8,ram_16)]\n",
    "merge_2[, screensize_dummy := ifelse(screensize == 13,screensize_13,screensize_15)]\n",
    "merge_2[, gpu_dummy := ifelse(gpu == \"Nvidia\",gpu_n,gpu_a)]\n",
    "merge_2[, cpu_dummy := dplyr::case_when(\n",
    "        cpu == 'i9' ~ cpu_i9,\n",
    "        cpu == 'i7' ~ cpu_i7,\n",
    "        cpu == 'i5' ~ cpu_i5)]\n",
    "head(merge_2)\n",
    "# create new columns for each attribute variable and replace each attribute's categories with corresponding attribute prices"
   ]
  },
  {
   "cell_type": "code",
   "execution_count": 17,
   "metadata": {},
   "outputs": [
    {
     "data": {
      "text/html": [
       "<table>\n",
       "<thead><tr><th scope=col>week_id</th><th scope=col>product_id</th><th scope=col>brand</th><th scope=col>cpu</th><th scope=col>ram</th><th scope=col>screensize</th><th scope=col>gpu</th><th scope=col>price</th><th scope=col>sales</th><th scope=col>is_free_shipping</th><th scope=col>...</th><th scope=col>screensize_13</th><th scope=col>gpu_n</th><th scope=col>gpu_a</th><th scope=col>ram_16</th><th scope=col>screensize_15</th><th scope=col>ram_dummy</th><th scope=col>screensize_dummy</th><th scope=col>gpu_dummy</th><th scope=col>cpu_dummy</th><th scope=col>manufac_cost</th></tr></thead>\n",
       "<tbody>\n",
       "\t<tr><td>1       </td><td>1       </td><td>dell    </td><td>i9      </td><td>8       </td><td>13      </td><td>Nvidia  </td><td>661.5660</td><td>4253.156</td><td>0       </td><td>...     </td><td>102.6302</td><td>104.1718</td><td>95.6511 </td><td>170.7128</td><td>133.4193</td><td>85.35641</td><td>102.6302</td><td>104.1718</td><td>140.2433</td><td>432.4017</td></tr>\n",
       "\t<tr><td>1       </td><td>2       </td><td>lenovo  </td><td>i9      </td><td>8       </td><td>13      </td><td>Nvidia  </td><td>658.5838</td><td>3827.249</td><td>0       </td><td>...     </td><td>102.6302</td><td>104.1718</td><td>95.6511 </td><td>170.7128</td><td>133.4193</td><td>85.35641</td><td>102.6302</td><td>104.1718</td><td>140.2433</td><td>432.4017</td></tr>\n",
       "\t<tr><td>1       </td><td>3       </td><td>asus    </td><td>i9      </td><td>8       </td><td>13      </td><td>Nvidia  </td><td>664.9970</td><td>4155.162</td><td>0       </td><td>...     </td><td>102.6302</td><td>104.1718</td><td>95.6511 </td><td>170.7128</td><td>133.4193</td><td>85.35641</td><td>102.6302</td><td>104.1718</td><td>140.2433</td><td>432.4017</td></tr>\n",
       "\t<tr><td>1       </td><td>4       </td><td>hp      </td><td>i9      </td><td>8       </td><td>13      </td><td>Nvidia  </td><td>660.8435</td><td>4026.688</td><td>0       </td><td>...     </td><td>102.6302</td><td>104.1718</td><td>95.6511 </td><td>170.7128</td><td>133.4193</td><td>85.35641</td><td>102.6302</td><td>104.1718</td><td>140.2433</td><td>432.4017</td></tr>\n",
       "\t<tr><td>1       </td><td>5       </td><td>razer   </td><td>i9      </td><td>8       </td><td>13      </td><td>Nvidia  </td><td>662.2279</td><td>3368.999</td><td>0       </td><td>...     </td><td>102.6302</td><td>104.1718</td><td>95.6511 </td><td>170.7128</td><td>133.4193</td><td>85.35641</td><td>102.6302</td><td>104.1718</td><td>140.2433</td><td>432.4017</td></tr>\n",
       "\t<tr><td>1       </td><td>6       </td><td>dell    </td><td>i7      </td><td>8       </td><td>13      </td><td>Nvidia  </td><td>631.6181</td><td>3552.481</td><td>0       </td><td>...     </td><td>102.6302</td><td>104.1718</td><td>95.6511 </td><td>170.7128</td><td>133.4193</td><td>85.35641</td><td>102.6302</td><td>104.1718</td><td>116.6671</td><td>408.8255</td></tr>\n",
       "</tbody>\n",
       "</table>\n"
      ],
      "text/latex": [
       "\\begin{tabular}{r|lllllllllllllllllllllllll}\n",
       " week\\_id & product\\_id & brand & cpu & ram & screensize & gpu & price & sales & is\\_free\\_shipping & ... & screensize\\_13 & gpu\\_n & gpu\\_a & ram\\_16 & screensize\\_15 & ram\\_dummy & screensize\\_dummy & gpu\\_dummy & cpu\\_dummy & manufac\\_cost\\\\\n",
       "\\hline\n",
       "\t 1        & 1        & dell     & i9       & 8        & 13       & Nvidia   & 661.5660 & 4253.156 & 0        & ...      & 102.6302 & 104.1718 & 95.6511  & 170.7128 & 133.4193 & 85.35641 & 102.6302 & 104.1718 & 140.2433 & 432.4017\\\\\n",
       "\t 1        & 2        & lenovo   & i9       & 8        & 13       & Nvidia   & 658.5838 & 3827.249 & 0        & ...      & 102.6302 & 104.1718 & 95.6511  & 170.7128 & 133.4193 & 85.35641 & 102.6302 & 104.1718 & 140.2433 & 432.4017\\\\\n",
       "\t 1        & 3        & asus     & i9       & 8        & 13       & Nvidia   & 664.9970 & 4155.162 & 0        & ...      & 102.6302 & 104.1718 & 95.6511  & 170.7128 & 133.4193 & 85.35641 & 102.6302 & 104.1718 & 140.2433 & 432.4017\\\\\n",
       "\t 1        & 4        & hp       & i9       & 8        & 13       & Nvidia   & 660.8435 & 4026.688 & 0        & ...      & 102.6302 & 104.1718 & 95.6511  & 170.7128 & 133.4193 & 85.35641 & 102.6302 & 104.1718 & 140.2433 & 432.4017\\\\\n",
       "\t 1        & 5        & razer    & i9       & 8        & 13       & Nvidia   & 662.2279 & 3368.999 & 0        & ...      & 102.6302 & 104.1718 & 95.6511  & 170.7128 & 133.4193 & 85.35641 & 102.6302 & 104.1718 & 140.2433 & 432.4017\\\\\n",
       "\t 1        & 6        & dell     & i7       & 8        & 13       & Nvidia   & 631.6181 & 3552.481 & 0        & ...      & 102.6302 & 104.1718 & 95.6511  & 170.7128 & 133.4193 & 85.35641 & 102.6302 & 104.1718 & 116.6671 & 408.8255\\\\\n",
       "\\end{tabular}\n"
      ],
      "text/markdown": [
       "\n",
       "| week_id | product_id | brand | cpu | ram | screensize | gpu | price | sales | is_free_shipping | ... | screensize_13 | gpu_n | gpu_a | ram_16 | screensize_15 | ram_dummy | screensize_dummy | gpu_dummy | cpu_dummy | manufac_cost |\n",
       "|---|---|---|---|---|---|---|---|---|---|---|---|---|---|---|---|---|---|---|---|---|\n",
       "| 1        | 1        | dell     | i9       | 8        | 13       | Nvidia   | 661.5660 | 4253.156 | 0        | ...      | 102.6302 | 104.1718 | 95.6511  | 170.7128 | 133.4193 | 85.35641 | 102.6302 | 104.1718 | 140.2433 | 432.4017 |\n",
       "| 1        | 2        | lenovo   | i9       | 8        | 13       | Nvidia   | 658.5838 | 3827.249 | 0        | ...      | 102.6302 | 104.1718 | 95.6511  | 170.7128 | 133.4193 | 85.35641 | 102.6302 | 104.1718 | 140.2433 | 432.4017 |\n",
       "| 1        | 3        | asus     | i9       | 8        | 13       | Nvidia   | 664.9970 | 4155.162 | 0        | ...      | 102.6302 | 104.1718 | 95.6511  | 170.7128 | 133.4193 | 85.35641 | 102.6302 | 104.1718 | 140.2433 | 432.4017 |\n",
       "| 1        | 4        | hp       | i9       | 8        | 13       | Nvidia   | 660.8435 | 4026.688 | 0        | ...      | 102.6302 | 104.1718 | 95.6511  | 170.7128 | 133.4193 | 85.35641 | 102.6302 | 104.1718 | 140.2433 | 432.4017 |\n",
       "| 1        | 5        | razer    | i9       | 8        | 13       | Nvidia   | 662.2279 | 3368.999 | 0        | ...      | 102.6302 | 104.1718 | 95.6511  | 170.7128 | 133.4193 | 85.35641 | 102.6302 | 104.1718 | 140.2433 | 432.4017 |\n",
       "| 1        | 6        | dell     | i7       | 8        | 13       | Nvidia   | 631.6181 | 3552.481 | 0        | ...      | 102.6302 | 104.1718 | 95.6511  | 170.7128 | 133.4193 | 85.35641 | 102.6302 | 104.1718 | 116.6671 | 408.8255 |\n",
       "\n"
      ],
      "text/plain": [
       "  week_id product_id brand  cpu ram screensize gpu    price    sales   \n",
       "1 1       1          dell   i9  8   13         Nvidia 661.5660 4253.156\n",
       "2 1       2          lenovo i9  8   13         Nvidia 658.5838 3827.249\n",
       "3 1       3          asus   i9  8   13         Nvidia 664.9970 4155.162\n",
       "4 1       4          hp     i9  8   13         Nvidia 660.8435 4026.688\n",
       "5 1       5          razer  i9  8   13         Nvidia 662.2279 3368.999\n",
       "6 1       6          dell   i7  8   13         Nvidia 631.6181 3552.481\n",
       "  is_free_shipping ... screensize_13 gpu_n    gpu_a   ram_16   screensize_15\n",
       "1 0                ... 102.6302      104.1718 95.6511 170.7128 133.4193     \n",
       "2 0                ... 102.6302      104.1718 95.6511 170.7128 133.4193     \n",
       "3 0                ... 102.6302      104.1718 95.6511 170.7128 133.4193     \n",
       "4 0                ... 102.6302      104.1718 95.6511 170.7128 133.4193     \n",
       "5 0                ... 102.6302      104.1718 95.6511 170.7128 133.4193     \n",
       "6 0                ... 102.6302      104.1718 95.6511 170.7128 133.4193     \n",
       "  ram_dummy screensize_dummy gpu_dummy cpu_dummy manufac_cost\n",
       "1 85.35641  102.6302         104.1718  140.2433  432.4017    \n",
       "2 85.35641  102.6302         104.1718  140.2433  432.4017    \n",
       "3 85.35641  102.6302         104.1718  140.2433  432.4017    \n",
       "4 85.35641  102.6302         104.1718  140.2433  432.4017    \n",
       "5 85.35641  102.6302         104.1718  140.2433  432.4017    \n",
       "6 85.35641  102.6302         104.1718  116.6671  408.8255    "
      ]
     },
     "metadata": {},
     "output_type": "display_data"
    }
   ],
   "source": [
    "merge_2$manufac_cost <- merge_2$ram_dummy + merge_2$screensize_dummy + merge_2$gpu_dummy + merge_2$cpu_dummy\n",
    "head(merge_2)\n",
    "# add the column of maunfacturing costs"
   ]
  },
  {
   "cell_type": "code",
   "execution_count": 18,
   "metadata": {},
   "outputs": [
    {
     "data": {
      "text/html": [
       "452.976782372519"
      ],
      "text/latex": [
       "452.976782372519"
      ],
      "text/markdown": [
       "452.976782372519"
      ],
      "text/plain": [
       "[1] 452.9768"
      ]
     },
     "metadata": {},
     "output_type": "display_data"
    },
    {
     "data": {
      "text/html": [
       "48.853448835218"
      ],
      "text/latex": [
       "48.853448835218"
      ],
      "text/markdown": [
       "48.853448835218"
      ],
      "text/plain": [
       "[1] 48.85345"
      ]
     },
     "metadata": {},
     "output_type": "display_data"
    }
   ],
   "source": [
    "mean(merge_2$manufac_cost) # the mean of manufacturing costs\n",
    "sd(merge_2$manufac_cost) # the standard deviation of manufacturing costs"
   ]
  },
  {
   "cell_type": "code",
   "execution_count": null,
   "metadata": {},
   "outputs": [],
   "source": []
  },
  {
   "cell_type": "code",
   "execution_count": 19,
   "metadata": {},
   "outputs": [
    {
     "data": {
      "text/plain": [
       "\n",
       "Call:\n",
       "lm(formula = price ~ cpu_dummy, data = merge_2)\n",
       "\n",
       "Residuals:\n",
       "     Min       1Q   Median       3Q      Max \n",
       "-115.972  -56.376   -2.206   55.717  127.293 \n",
       "\n",
       "Coefficients:\n",
       "             Estimate Std. Error t value Pr(>|t|)    \n",
       "(Intercept) 521.04321    3.83834  135.75   <2e-16 ***\n",
       "cpu_dummy     1.40038    0.03062   45.74   <2e-16 ***\n",
       "---\n",
       "Signif. codes:  0 ‘***’ 0.001 ‘**’ 0.01 ‘*’ 0.05 ‘.’ 0.1 ‘ ’ 1\n",
       "\n",
       "Residual standard error: 62.14 on 9598 degrees of freedom\n",
       "Multiple R-squared:  0.179,\tAdjusted R-squared:  0.1789 \n",
       "F-statistic:  2092 on 1 and 9598 DF,  p-value: < 2.2e-16\n"
      ]
     },
     "metadata": {},
     "output_type": "display_data"
    }
   ],
   "source": [
    "# 2.b\n",
    "\n",
    "cpu_lm_1st_stage <- lm(data = merge_2,\n",
    "           formula = price ~ cpu_dummy)\n",
    "summary(cpu_lm_1st_stage)\n",
    "# stage 1 cpu price as instrument value"
   ]
  },
  {
   "cell_type": "code",
   "execution_count": 20,
   "metadata": {},
   "outputs": [
    {
     "data": {
      "text/plain": [
       "\n",
       "Call:\n",
       "lm(formula = sales ~ cpu_predicted_price, data = merge_2[, `:=`(cpu_predicted_price, \n",
       "    cpu_predicted_price)])\n",
       "\n",
       "Residuals:\n",
       "     Min       1Q   Median       3Q      Max \n",
       "-2464.64  -391.50    16.17   414.52  2034.89 \n",
       "\n",
       "Coefficients:\n",
       "                     Estimate Std. Error t value Pr(>|t|)    \n",
       "(Intercept)         3987.6209   146.2650  27.263   <2e-16 ***\n",
       "cpu_predicted_price   -0.2080     0.2105  -0.988    0.323    \n",
       "---\n",
       "Signif. codes:  0 ‘***’ 0.001 ‘**’ 0.01 ‘*’ 0.05 ‘.’ 0.1 ‘ ’ 1\n",
       "\n",
       "Residual standard error: 598.3 on 9598 degrees of freedom\n",
       "Multiple R-squared:  0.0001017,\tAdjusted R-squared:  -2.506e-06 \n",
       "F-statistic: 0.9759 on 1 and 9598 DF,  p-value: 0.3232\n"
      ]
     },
     "metadata": {},
     "output_type": "display_data"
    }
   ],
   "source": [
    "cpu_predicted_price <- predict(cpu_lm_1st_stage)\n",
    "summary(lm(data = merge_2[,cpu_predicted_price := cpu_predicted_price ],\n",
    "           formula = sales ~ cpu_predicted_price))\n",
    "# stage 2 cpu price as instrument value"
   ]
  },
  {
   "cell_type": "code",
   "execution_count": 21,
   "metadata": {},
   "outputs": [
    {
     "data": {
      "text/plain": [
       "\n",
       "\tPearson's product-moment correlation\n",
       "\n",
       "data:  merge_2$price and merge_2$cpu_dummy\n",
       "t = 45.739, df = 9598, p-value < 2.2e-16\n",
       "alternative hypothesis: true correlation is not equal to 0\n",
       "95 percent confidence interval:\n",
       " 0.4064748 0.4393257\n",
       "sample estimates:\n",
       "      cor \n",
       "0.4230393 \n"
      ]
     },
     "metadata": {},
     "output_type": "display_data"
    }
   ],
   "source": [
    "cor.test(merge_2$price,merge_2$cpu_dummy)\n",
    "# the correlation between price and cpu"
   ]
  },
  {
   "cell_type": "code",
   "execution_count": null,
   "metadata": {},
   "outputs": [],
   "source": []
  },
  {
   "cell_type": "code",
   "execution_count": 22,
   "metadata": {},
   "outputs": [
    {
     "data": {
      "text/plain": [
       "\n",
       "Call:\n",
       "lm(formula = price ~ manufac_cost + is_free_shipping, data = merge_2)\n",
       "\n",
       "Residuals:\n",
       "     Min       1Q   Median       3Q      Max \n",
       "-18.5291  -3.0906  -0.0085   3.1036  16.5655 \n",
       "\n",
       "Coefficients:\n",
       "                  Estimate Std. Error  t value Pr(>|t|)    \n",
       "(Intercept)      5.975e+01  4.294e-01  139.130   <2e-16 ***\n",
       "manufac_cost     1.401e+00  9.422e-04 1486.598   <2e-16 ***\n",
       "is_free_shipping 5.238e-01  4.044e-01    1.295    0.195    \n",
       "---\n",
       "Signif. codes:  0 ‘***’ 0.001 ‘**’ 0.01 ‘*’ 0.05 ‘.’ 0.1 ‘ ’ 1\n",
       "\n",
       "Residual standard error: 4.508 on 9597 degrees of freedom\n",
       "Multiple R-squared:  0.9957,\tAdjusted R-squared:  0.9957 \n",
       "F-statistic: 1.106e+06 on 2 and 9597 DF,  p-value: < 2.2e-16\n"
      ]
     },
     "metadata": {},
     "output_type": "display_data"
    }
   ],
   "source": [
    "# 2.c \n",
    "\n",
    "manufac_lm_1st_stage <- lm(data = merge_2,\n",
    "           formula = price ~ manufac_cost + is_free_shipping)\n",
    "summary(manufac_lm_1st_stage)\n",
    "# stage 1 of manufacturing costs as instrument value"
   ]
  },
  {
   "cell_type": "code",
   "execution_count": 23,
   "metadata": {},
   "outputs": [
    {
     "data": {
      "text/plain": [
       "\n",
       "Call:\n",
       "lm(formula = sales ~ manufac_predicted_price, data = merge_2[, \n",
       "    `:=`(manufac_predicted_price, manufac_predicted_price)])\n",
       "\n",
       "Residuals:\n",
       "     Min       1Q   Median       3Q      Max \n",
       "-2471.01  -390.76    16.95   415.78  2026.43 \n",
       "\n",
       "Coefficients:\n",
       "                          Estimate Std. Error t value Pr(>|t|)    \n",
       "(Intercept)             3969.07096   62.24587  63.764   <2e-16 ***\n",
       "manufac_predicted_price   -0.18125    0.08923  -2.031   0.0423 *  \n",
       "---\n",
       "Signif. codes:  0 ‘***’ 0.001 ‘**’ 0.01 ‘*’ 0.05 ‘.’ 0.1 ‘ ’ 1\n",
       "\n",
       "Residual standard error: 598.2 on 9598 degrees of freedom\n",
       "Multiple R-squared:  0.0004296,\tAdjusted R-squared:  0.0003255 \n",
       "F-statistic: 4.125 on 1 and 9598 DF,  p-value: 0.04227\n"
      ]
     },
     "metadata": {},
     "output_type": "display_data"
    }
   ],
   "source": [
    "manufac_predicted_price <- predict(manufac_lm_1st_stage)\n",
    "summary(lm(data = merge_2[,manufac_predicted_price := manufac_predicted_price ],\n",
    "           formula = sales ~ manufac_predicted_price))\n",
    "# stage 2 of manufacturing costs as instrument value"
   ]
  },
  {
   "cell_type": "code",
   "execution_count": 24,
   "metadata": {},
   "outputs": [
    {
     "data": {
      "text/plain": [
       "\n",
       "\tPearson's product-moment correlation\n",
       "\n",
       "data:  merge_2$price and merge_2$manufac_cost\n",
       "t = 1487.1, df = 9598, p-value < 2.2e-16\n",
       "alternative hypothesis: true correlation is not equal to 0\n",
       "95 percent confidence interval:\n",
       " 0.9977489 0.9979219\n",
       "sample estimates:\n",
       "      cor \n",
       "0.9978371 \n"
      ]
     },
     "metadata": {},
     "output_type": "display_data"
    }
   ],
   "source": [
    "cor.test(merge_2$price,merge_2$manufac_cost)\n",
    "# the correlation between price and manufacturing costs"
   ]
  }
 ],
 "metadata": {
  "kernelspec": {
   "display_name": "R",
   "language": "R",
   "name": "ir"
  },
  "language_info": {
   "codemirror_mode": "r",
   "file_extension": ".r",
   "mimetype": "text/x-r-source",
   "name": "R",
   "pygments_lexer": "r",
   "version": "3.6.1"
  }
 },
 "nbformat": 4,
 "nbformat_minor": 4
}
